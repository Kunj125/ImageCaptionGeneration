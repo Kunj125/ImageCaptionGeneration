{
 "cells": [
  {
   "cell_type": "code",
   "execution_count": 93,
   "id": "f32a1b6e-bce8-4bd8-bef9-e70fd244cd49",
   "metadata": {},
   "outputs": [],
   "source": [
    "import os\n",
    "import matplotlib as plp\n",
    "import numpy as np\n",
    "import pandas as pd\n",
    "import torch\n",
    "from torchvision import datasets\n",
    "from torchvision.transforms import ToTensor\n",
    "from torchvision.io import read_image\n",
    "from torch.utils.data import Dataset"
   ]
  },
  {
   "cell_type": "code",
   "execution_count": 94,
   "id": "993b8401-17d2-4a7b-848c-418c2d0e6054",
   "metadata": {},
   "outputs": [],
   "source": [
    "# Load data\n",
    "\n",
    "class Dataset(Dataset):\n",
    "    def __init__(self, root, ann_file, transform=None):\n",
    "        self.root = root\n",
    "        ann_file_dir = os.path.join(self.root, ann_file)\n",
    "        self.labels = pd.read_csv(ann_file_dir, sep='|')\n",
    "        self.transform = transform\n",
    "\n",
    "    def __len__(self):\n",
    "        return (len(self.labels))//5\n",
    "\n",
    "    def __getitem__(self, idx):\n",
    "        image_path = os.path.join(self.root, \"images\", self.labels.iloc[idx, 0])\n",
    "        image = read_image(image_path)\n",
    "\n",
    "        # Get all the labels of the corresponding image\n",
    "        labels = []\n",
    "        start_id = idx - (idx % 5) \n",
    "        for i in range(start_id, start_id + 5):\n",
    "            labels.append(self.labels.iloc[i, 2])\n",
    "\n",
    "        # Just get the corresponding label\n",
    "        # labels = self.labels.iloc[idx, 2]\n",
    "        \n",
    "        if self.transform:\n",
    "            image = self.transform(image)\n",
    "        \n",
    "        return image, labels"
   ]
  },
  {
   "cell_type": "code",
   "execution_count": 95,
   "id": "e39be152-148c-4dfd-85bc-a7760812e559",
   "metadata": {
    "scrolled": true
   },
   "outputs": [],
   "source": [
    "data = Dataset(root = \"data\", ann_file = \"results.csv\")"
   ]
  },
  {
   "cell_type": "code",
   "execution_count": null,
   "id": "5dd11f80-3b6a-4692-a6e3-d61127872cb3",
   "metadata": {},
   "outputs": [],
   "source": []
  }
 ],
 "metadata": {
  "kernelspec": {
   "display_name": "Python 3 (ipykernel)",
   "language": "python",
   "name": "python3"
  },
  "language_info": {
   "codemirror_mode": {
    "name": "ipython",
    "version": 3
   },
   "file_extension": ".py",
   "mimetype": "text/x-python",
   "name": "python",
   "nbconvert_exporter": "python",
   "pygments_lexer": "ipython3",
   "version": "3.12.0"
  }
 },
 "nbformat": 4,
 "nbformat_minor": 5
}
